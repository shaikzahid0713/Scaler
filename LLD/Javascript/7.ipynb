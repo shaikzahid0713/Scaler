{
 "cells": [
  {
   "cell_type": "markdown",
   "metadata": {},
   "source": [
    "# Async & Await"
   ]
  },
  {
   "cell_type": "markdown",
   "metadata": {},
   "source": [
    "- Async & Await is a modern javascript feature and uses modern syntax\n",
    "- It is built on top of Promises\n",
    "- It is more readable and makes debugging easier"
   ]
  },
  {
   "cell_type": "code",
   "execution_count": 2,
   "metadata": {},
   "outputs": [
    {
     "name": "stdout",
     "output_type": "stream",
     "text": [
      "Promise { \"data\" }\n"
     ]
    }
   ],
   "source": [
    "// function fetchData() {\n",
    "//     return 'data';  // Output: 'data' as a string\n",
    "// };\n",
    "\n",
    "// Async Keyword makes a function return Promise \n",
    "// Creation of a Promise using async keyword\n",
    "async function fetchData() {\n",
    "    return 'data';\n",
    "};\n",
    "const dataPromise = fetchData();\n",
    "\n",
    "console.log(dataPromise);\n"
   ]
  },
  {
   "cell_type": "code",
   "execution_count": 3,
   "metadata": {},
   "outputs": [
    {
     "name": "stdout",
     "output_type": "stream",
     "text": [
      "data\n"
     ]
    },
    {
     "data": {
      "text/plain": [
       "Promise { \u001b[90mundefined\u001b[39m }"
      ]
     },
     "execution_count": 3,
     "metadata": {},
     "output_type": "execute_result"
    }
   ],
   "source": [
    "async function fetchData() {\n",
    "    return 'data';\n",
    "};\n",
    "const dataPromise = fetchData();\n",
    "\n",
    "// Consumption of a Promise\n",
    "// In order to consume the promise, we need to use .then() which is used for a promise resolution.\n",
    "dataPromise.then(function(result) {  \n",
    "    console.log(result);\n",
    "});\n"
   ]
  },
  {
   "cell_type": "code",
   "execution_count": 12,
   "metadata": {},
   "outputs": [
    {
     "name": "stdout",
     "output_type": "stream",
     "text": [
      "Promise Resolved!  -> From .then()\n",
      "Promise Resolved!  -> From Async/Await\n"
     ]
    },
    {
     "data": {
      "text/plain": [
       "Promise { \u001b[90mundefined\u001b[39m }"
      ]
     },
     "execution_count": 12,
     "metadata": {},
     "output_type": "execute_result"
    }
   ],
   "source": [
    "const p = new Promise(function(resolve, reject) {\n",
    "    resolve('Promise Resolved!');\n",
    "});\n",
    "\n",
    "function fetchData() {\n",
    "    p.then(function(result) {\n",
    "        console.log(result, ' -> From .then()');\n",
    "    })\n",
    "}\n",
    "\n",
    "async function handlePromise() {\n",
    "    const val = await p; // Await Keyword is only used inside an async function Otherwise error\n",
    "    console.log(val, ' -> From Async/Await');\n",
    "}\n",
    "\n",
    "fetchData();\n",
    "handlePromise();"
   ]
  },
  {
   "cell_type": "code",
   "execution_count": 15,
   "metadata": {},
   "outputs": [
    {
     "ename": "SyntaxError",
     "evalue": "await is only valid in async functions and the top level bodies of modules",
     "output_type": "error",
     "traceback": [
      "Stack trace:",
      "SyntaxError: await is only valid in async functions and the top level bodies of modules"
     ]
    }
   ],
   "source": [
    "const p = new Promise(function(resolve, reject) {\n",
    "    setTimeout(() => {\n",
    "        resolve('Promise Resolved!');\n",
    "    }, 2000);\n",
    "});\n",
    "\n",
    "function fetchData() {\n",
    "    // SyntaxError: await is only valid in async functions and the top level bodies of modules\n",
    "    // Because await is called without using async\n",
    "    const result = await p;\n",
    "    console.log(result, ' -> From .then()');\n",
    "    console.log('Create Impact');\n",
    "}\n",
    "\n",
    "fetchData();"
   ]
  },
  {
   "cell_type": "code",
   "execution_count": 16,
   "metadata": {},
   "outputs": [
    {
     "data": {
      "text/plain": [
       "Promise { \u001b[36m<pending>\u001b[39m }"
      ]
     },
     "execution_count": 16,
     "metadata": {},
     "output_type": "execute_result"
    },
    {
     "name": "stdout",
     "output_type": "stream",
     "text": [
      "Promise Resolved!  -> From .then()\n",
      "Create Impact\n"
     ]
    }
   ],
   "source": [
    "const p = new Promise(function(resolve, reject) {\n",
    "    setTimeout(() => {\n",
    "        resolve('Promise Resolved!');\n",
    "    }, 2000);\n",
    "});\n",
    "\n",
    "// No error because async is used for await to work.\n",
    "async function fetchData() {\n",
    "    // Until the value is fetched from 'p' javascript will not execute further code.\n",
    "    const result = await p;\n",
    "    // This will get printed first\n",
    "    console.log(result, ' -> From .then()');\n",
    "    // After that, this will be printed.\n",
    "    console.log('Create Impact');\n",
    "}\n",
    "\n",
    "fetchData();"
   ]
  },
  {
   "cell_type": "code",
   "execution_count": 18,
   "metadata": {},
   "outputs": [
    {
     "name": "stdout",
     "output_type": "stream",
     "text": [
      "-------------Start-------------\n"
     ]
    },
    {
     "data": {
      "text/plain": [
       "Promise { \u001b[36m<pending>\u001b[39m }"
      ]
     },
     "execution_count": 18,
     "metadata": {},
     "output_type": "execute_result"
    },
    {
     "name": "stdout",
     "output_type": "stream",
     "text": [
      "First\n",
      "Promise Resolved!\n",
      "Second\n",
      "Promise Resolved!\n",
      "-------------End-------------\n"
     ]
    }
   ],
   "source": []
  },
  {
   "cell_type": "code",
   "execution_count": null,
   "metadata": {},
   "outputs": [],
   "source": [
    "const p = new Promise(function(resolve, reject) {\n",
    "    setTimeout(() => {\n",
    "        resolve('Promise Resolved!');\n",
    "    }, 8000);\n",
    "});\n",
    "\n",
    "async function fetchData() {\n",
    "    console.log(\"-------------Start-------------\");\n",
    "\n",
    "    // After first await is called, it will take the timeout seconds to execute and will run instantly for next await called for the same promise\n",
    "    const first = await p;\n",
    "    console.log(\"First\");\n",
    "    console.log(first);\n",
    "\n",
    "    const second = await p;\n",
    "    console.log(\"Second\");\n",
    "    console.log(second);\n",
    "\n",
    "    console.log(\"-------------End-------------\");\n",
    "}\n",
    "\n",
    "fetchData();"
   ]
  },
  {
   "cell_type": "code",
   "execution_count": 20,
   "metadata": {},
   "outputs": [
    {
     "name": "stdout",
     "output_type": "stream",
     "text": [
      "-------------Start-------------\n"
     ]
    },
    {
     "data": {
      "text/plain": [
       "Promise { \u001b[36m<pending>\u001b[39m }"
      ]
     },
     "execution_count": 20,
     "metadata": {},
     "output_type": "execute_result"
    },
    {
     "name": "stdout",
     "output_type": "stream",
     "text": [
      "First\n",
      "Promise Resolved!\n",
      "Second\n",
      "Promise Resolved!\n",
      "-------------End-------------\n"
     ]
    }
   ],
   "source": [
    "const p1 = new Promise(function(resolve, reject) {\n",
    "    setTimeout(() => {\n",
    "        resolve('Promise Resolved!');\n",
    "    }, 8000);\n",
    "});\n",
    "\n",
    "const p2 = new Promise(function(resolve, reject) {\n",
    "    setTimeout(() => {\n",
    "        resolve('Promise Resolved!');\n",
    "    }, 5000);\n",
    "});\n",
    "\n",
    "async function fetchData() {\n",
    "    console.log(\"-------------Start-------------\");\n",
    "\n",
    "    // After first await is called, it will take the timeout seconds to execute and will run instantly for next await called for the same promise\n",
    "    const first = await p1;\n",
    "    console.log(\"First\");\n",
    "    console.log(first);\n",
    "\n",
    "    const second = await p2;\n",
    "    console.log(\"Second\");\n",
    "    console.log(second);\n",
    "\n",
    "    console.log(\"-------------End-------------\");\n",
    "}\n",
    "\n",
    "fetchData();"
   ]
  },
  {
   "cell_type": "code",
   "execution_count": 25,
   "metadata": {},
   "outputs": [
    {
     "name": "stdout",
     "output_type": "stream",
     "text": [
      "First\n",
      "Third\n"
     ]
    },
    {
     "name": "stdout",
     "output_type": "stream",
     "text": [
      "Second\n"
     ]
    }
   ],
   "source": [
    "// Normal Execution\n",
    "function first() {\n",
    "    console.log(\"First\");\n",
    "}\n",
    "\n",
    "const second = new Promise(function(resolve, reject) {\n",
    "    setTimeout(() => {\n",
    "        resolve('Second');\n",
    "    }, 3000);\n",
    "});\n",
    "\n",
    "// Normal Execution\n",
    "function thrid() {\n",
    "    console.log(\"Third\");\n",
    "}\n",
    "\n",
    "async function getSecond() {\n",
    "    // When await is called, the function is sent to API block of Javascript Execution and Any code before this line is executed synchronously\n",
    "    const secondPromise = await second; \n",
    "    console.log(secondPromise);\n",
    "}\n",
    "\n",
    "first();\n",
    "getSecond();\n",
    "thrid(); "
   ]
  },
  {
   "cell_type": "markdown",
   "metadata": {},
   "source": [
    "### Coffee Shop Problem"
   ]
  },
  {
   "cell_type": "markdown",
   "metadata": {},
   "source": [
    "Using .then() -> Promise Chaining."
   ]
  },
  {
   "cell_type": "code",
   "execution_count": 13,
   "metadata": {},
   "outputs": [
    {
     "name": "stdout",
     "output_type": "stream",
     "text": [
      "Order Placed Successfully\n",
      "string\n",
      "Promise { \"Order Placed Successfully and Served\" }\n",
      "object\n",
      "Order Placed Successfully and Served sucessfully!\n",
      "string\n",
      "Promise {\n",
      "  \"Order Placed Successfully and Served and then bill is generated!\"\n",
      "}\n",
      "object\n",
      "Order Placed Successfully and Served and then bill is generated!\n",
      "string\n"
     ]
    },
    {
     "data": {
      "text/plain": [
       "Promise { \u001b[36m<rejected>\u001b[39m \u001b[32m\"Order cannot be placed!\"\u001b[39m }"
      ]
     },
     "execution_count": 13,
     "metadata": {},
     "output_type": "execute_result"
    }
   ],
   "source": [
    "// Create a function for Placing the Order\n",
    "function placeOrder(drink) {\n",
    "    return new Promise(function(resolve, reject) {\n",
    "        if (drink === 'coffee') {\n",
    "            resolve('Order Placed Successfully');\n",
    "        }\n",
    "        else {\n",
    "            reject('Order cannot be placed!');\n",
    "        }\n",
    "    })\n",
    "}\n",
    "\n",
    "\n",
    "// Create a function for Processing the Order\n",
    "function processOrder(orderPlaced){\n",
    "    return new Promise(function(resolve,reject) {\n",
    "        resolve(`${orderPlaced} and Served`)\n",
    "    });\n",
    "}\n",
    "\n",
    "\n",
    "// Generate a Bill\n",
    "function generateBill(processedOrder) {\n",
    "    return new Promise(function(resolve, reject) {\n",
    "        resolve(`${processedOrder} and then bill is generated!`);\n",
    "    });\n",
    "}\n",
    "\n",
    "placeOrder('coffee')\n",
    ".then(function(orderStatus) {\n",
    "    console.log(orderStatus);\n",
    "    console.log(typeof orderStatus);\n",
    "    return orderStatus;\n",
    "})\n",
    ".then(function (orderPlaced) {\n",
    "    let orderProcessedState = processOrder(orderPlaced);\n",
    "    console.log(orderProcessedState);\n",
    "    console.log(typeof orderProcessedState);\n",
    "    return orderProcessedState;\n",
    "})\n",
    ".then(function(processedOrder) {\n",
    "    console.log(`${processedOrder} sucessfully!`);\n",
    "    console.log(typeof processedOrder);\n",
    "    return processedOrder;\n",
    "})\n",
    ".then(function(processedOrder) {\n",
    "    let billGeneration = generateBill(processedOrder);\n",
    "    console.log(billGeneration);\n",
    "    console.log(typeof billGeneration);\n",
    "    return billGeneration;\n",
    "})\n",
    ".then(function(billGeneration) {\n",
    "    console.log(typeof billGeneration);\n",
    "    console.log(billGeneration);\n",
    "})\n",
    ".catch(function(error) {\n",
    "    console.error(error);\n",
    "})\n",
    "\n",
    "\n",
    "// placeOrder('tea');\n",
    "placeOrder();"
   ]
  },
  {
   "cell_type": "code",
   "execution_count": 22,
   "metadata": {},
   "outputs": [
    {
     "name": "stdout",
     "output_type": "stream",
     "text": [
      "Order Placed Successfully!\n",
      "Order Placed Successfully! and Served\n",
      "Order Placed Successfully! and Served and bill is generated to pay!\n"
     ]
    },
    {
     "data": {
      "text/plain": [
       "Promise { \u001b[90mundefined\u001b[39m }"
      ]
     },
     "execution_count": 22,
     "metadata": {},
     "output_type": "execute_result"
    }
   ],
   "source": [
    "// Create a function for Placing the Order\n",
    "// function placeOrder(drink) {\n",
    "//     return new Promise(function(resolve, reject) {\n",
    "//         if (drink === 'coffee') {\n",
    "//             resolve('Order Placed Successfully');\n",
    "//         }\n",
    "//         else {\n",
    "//             reject('Order cannot be placed!');\n",
    "//         }\n",
    "//     })\n",
    "// }\n",
    "\n",
    "\n",
    "// Above function can also be trn\n",
    "async function placeOrder(drink) {\n",
    "    if (drink === 'coffee')\n",
    "        return \"Order Placed Successfully!\";\n",
    "    return \"Order cannot be placed!\";\n",
    "}\n",
    "\n",
    "\n",
    "// Create a function for Processing the Order\n",
    "// function processOrder(orderPlaced){\n",
    "//     return new Promise(function(resolve,reject) {\n",
    "//         resolve(`${orderPlaced} and Served`)\n",
    "//     });\n",
    "// }\n",
    "\n",
    "async function processOrder(orderPlaced) {\n",
    "    return `${orderPlaced} and Served`;\n",
    "}\n",
    "\n",
    "\n",
    "// Generate a Bill\n",
    "// function generateBill(processedOrder) {\n",
    "//     return new Promise(function(resolve, reject) {\n",
    "//         resolve(`${processedOrder} and then bill is generated!`);\n",
    "//     });\n",
    "// }\n",
    "\n",
    "async function generateBill(processedOrder) {\n",
    "    return `${processedOrder} and bill is generated to pay!`;\n",
    "}\n",
    "\n",
    "\n",
    "async function serveOrder() {\n",
    "    let placeOrderPromise = await placeOrder('coffee');\n",
    "    console.log(placeOrderPromise);\n",
    "\n",
    "    let processedOrderPromise = await processOrder(placeOrderPromise);\n",
    "    console.log(processedOrderPromise);\n",
    "\n",
    "    let generateBillPromise = await generateBill(processedOrderPromise);\n",
    "    console.log(generateBillPromise);\n",
    "}\n",
    "\n",
    "serveOrder();"
   ]
  },
  {
   "cell_type": "markdown",
   "metadata": {},
   "source": [
    "### Handling Errors in Async & Await"
   ]
  },
  {
   "cell_type": "markdown",
   "metadata": {},
   "source": [
    "Error handling is used using try/catch statements"
   ]
  },
  {
   "cell_type": "code",
   "execution_count": 20,
   "metadata": {},
   "outputs": [
    {
     "name": "stdout",
     "output_type": "stream",
     "text": [
      "Order Placed Successfully\n",
      "Order Placed Successfully and Served\n",
      "Order Placed Successfully and Served and then bill is generated!\n"
     ]
    },
    {
     "data": {
      "text/plain": [
       "Promise { \u001b[90mundefined\u001b[39m }"
      ]
     },
     "execution_count": 20,
     "metadata": {},
     "output_type": "execute_result"
    }
   ],
   "source": [
    "// Create a function for Placing the Order\n",
    "function placeOrder(drink) {\n",
    "    return new Promise(function(resolve, reject) {\n",
    "        if (drink === 'coffee') {\n",
    "            resolve('Order Placed Successfully');\n",
    "        }\n",
    "        else {\n",
    "            reject('Order cannot be placed!');\n",
    "        }\n",
    "    })\n",
    "}\n",
    "\n",
    "\n",
    "// Create a function for Processing the Order\n",
    "function processOrder(orderPlaced){\n",
    "    return new Promise(function(resolve,reject) {\n",
    "        resolve(`${orderPlaced} and Served`)\n",
    "    });\n",
    "}\n",
    "\n",
    "\n",
    "// Generate a Bill\n",
    "function generateBill(processedOrder) {\n",
    "    return new Promise(function(resolve, reject) {\n",
    "        resolve(`${processedOrder} and then bill is generated!`);\n",
    "    });\n",
    "}\n",
    "\n",
    "\n",
    "async function serveOrder() {\n",
    "    try {\n",
    "        let placeOrderPromise = await placeOrder('coffee');\n",
    "        console.log(placeOrderPromise);\n",
    "\n",
    "        let processedOrderPromise = await processOrder(placeOrderPromise);\n",
    "        console.log(processedOrderPromise);\n",
    "\n",
    "        let generateBillPromise = await generateBill(processedOrderPromise);\n",
    "        console.log(generateBillPromise);\n",
    "    }\n",
    "    catch(err) {\n",
    "        console.error(err);\n",
    "    }\n",
    "}\n",
    "\n",
    "serveOrder();"
   ]
  },
  {
   "cell_type": "code",
   "execution_count": null,
   "metadata": {},
   "outputs": [],
   "source": []
  },
  {
   "cell_type": "code",
   "execution_count": null,
   "metadata": {},
   "outputs": [],
   "source": []
  }
 ],
 "metadata": {
  "kernelspec": {
   "display_name": "Deno",
   "language": "typescript",
   "name": "deno"
  },
  "language_info": {
   "codemirror_mode": "typescript",
   "file_extension": ".ts",
   "mimetype": "text/x.typescript",
   "name": "typescript",
   "nbconvert_exporter": "script",
   "pygments_lexer": "typescript",
   "version": "5.6.2"
  }
 },
 "nbformat": 4,
 "nbformat_minor": 2
}
